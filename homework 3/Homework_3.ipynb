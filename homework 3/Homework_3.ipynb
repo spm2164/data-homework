{
 "cells": [
  {
   "cell_type": "markdown",
   "metadata": {},
   "source": [
    "# Homework assignment #3\n",
    "\n",
    "These problem sets focus on using the Beautiful Soup library to scrape web pages.\n",
    "\n",
    "## Problem Set #1: Basic scraping\n",
    "\n",
    "I've made a web page for you to scrape. It's available [here](http://static.decontextualize.com/widgets2016.html). The page concerns the catalog of a famous [widget](http://en.wikipedia.org/wiki/Widget) company. You'll be answering several questions about this web page. In the cell below, I've written some code so that you end up with a variable called `html_str` that contains the HTML source code of the page, and a variable `document` that stores a Beautiful Soup object."
   ]
  },
  {
   "cell_type": "code",
   "execution_count": 1,
   "metadata": {
    "collapsed": false
   },
   "outputs": [],
   "source": [
    "from bs4 import BeautifulSoup\n",
    "from urllib.request import urlopen\n",
    "html_str = urlopen(\"http://static.decontextualize.com/widgets2016.html\").read()\n",
    "document = BeautifulSoup(html_str, \"html.parser\")"
   ]
  },
  {
   "cell_type": "markdown",
   "metadata": {},
   "source": [
    "Now, in the cell below, use Beautiful Soup to write an expression that evaluates to the number of `<h3>` tags contained in `widgets2016.html`."
   ]
  },
  {
   "cell_type": "code",
   "execution_count": 8,
   "metadata": {
    "collapsed": false
   },
   "outputs": [
    {
     "name": "stdout",
     "output_type": "stream",
     "text": [
      "There are 4 h3 tags present in the document\n"
     ]
    }
   ],
   "source": [
    "h3_tag=document.findAll('h3')\n",
    "print(\"There are\", len(h3_tag), \"h3 tags present in the document\")"
   ]
  },
  {
   "cell_type": "markdown",
   "metadata": {},
   "source": [
    "Now, in the cell below, write an expression or series of statements that displays the telephone number beneath the \"Widget Catalog\" header."
   ]
  },
  {
   "cell_type": "code",
   "execution_count": 24,
   "metadata": {
    "collapsed": false
   },
   "outputs": [
    {
     "name": "stdout",
     "output_type": "stream",
     "text": [
      "The telephone number under the header is: 212-555-9912\n"
     ]
    }
   ],
   "source": [
    "telephone=document.find('a', {'class': 'tel'})\n",
    "print(\"The telephone number under the header is:\", telephone.string)"
   ]
  },
  {
   "cell_type": "markdown",
   "metadata": {},
   "source": [
    "In the cell below, use Beautiful Soup to write some code that prints the names of all the widgets on the page. After your code has executed, `widget_names` should evaluate to a list that looks like this (though not necessarily in this order):\n",
    "\n",
    "```\n",
    "Skinner Widget\n",
    "Widget For Furtiveness\n",
    "Widget For Strawman\n",
    "Jittery Widget\n",
    "Silver Widget\n",
    "Divided Widget\n",
    "Manicurist Widget\n",
    "Infinite Widget\n",
    "Yellow-Tipped Widget\n",
    "Unshakable Widget\n",
    "Self-Knowledge Widget\n",
    "Widget For Cinema\n",
    "```"
   ]
  },
  {
   "cell_type": "code",
   "execution_count": 77,
   "metadata": {
    "collapsed": false
   },
   "outputs": [
    {
     "name": "stdout",
     "output_type": "stream",
     "text": [
      "Skinner Widget\n",
      "Widget For Furtiveness\n",
      "Widget For Strawman\n",
      "Jittery Widget\n",
      "Silver Widget\n",
      "Divided Widget\n",
      "Manicurist Widget\n",
      "Infinite Widget\n",
      "Yellow-Tipped Widget\n",
      "Unshakable Widget\n",
      "Self-Knowledge Widget\n",
      "Widget For Cinema\n"
     ]
    }
   ],
   "source": [
    "widgets=document.findAll('td', {'class': 'wname'})\n",
    "widget_names=[]\n",
    "for widget in widgets:\n",
    "    widget_names.append(widget.string)\n",
    "print(*widget_names, sep='\\n')\n"
   ]
  },
  {
   "cell_type": "markdown",
   "metadata": {},
   "source": [
    "## Problem set #2: Widget dictionaries\n",
    "\n",
    "For this problem set, we'll continue to use the HTML page from the previous problem set. In the cell below, I've made an empty list and assigned it to a variable called `widgets`. Write code that populates this list with dictionaries, one dictionary per widget in the source file. The keys of each dictionary should be `partno`, `wname`, `price`, and `quantity`, and the value for each of the keys should be the value for the corresponding column for each row. After executing the cell, your list should look something like this:\n",
    "\n",
    "```\n",
    "[{'partno': 'C1-9476',\n",
    "  'price': '$2.70',\n",
    "  'quantity': u'512',\n",
    "  'wname': 'Skinner Widget'},\n",
    " {'partno': 'JDJ-32/V',\n",
    "  'price': '$9.36',\n",
    "  'quantity': '967',\n",
    "  'wname': u'Widget For Furtiveness'},\n",
    "  ...several items omitted...\n",
    " {'partno': '5B-941/F',\n",
    "  'price': '$13.26',\n",
    "  'quantity': '919',\n",
    "  'wname': 'Widget For Cinema'}]\n",
    "```\n",
    "\n",
    "And this expression:\n",
    "\n",
    "    widgets[5]['partno']\n",
    "    \n",
    "... should evaluate to:\n",
    "\n",
    "    LH-74/O\n",
    "    "
   ]
  },
  {
   "cell_type": "code",
   "execution_count": 66,
   "metadata": {
    "collapsed": false
   },
   "outputs": [
    {
     "name": "stdout",
     "output_type": "stream",
     "text": [
      "[{'wname': 'Skinner Widget', 'quantity': '512', 'partno': 'C1-9476', 'price': '$2.70'}, {'wname': 'Widget For Furtiveness', 'quantity': '967', 'partno': 'JDJ-32/V', 'price': '$9.36'}, {'wname': 'Widget For Strawman', 'quantity': '787', 'partno': 'YP4-325/J', 'price': '$5.17'}, {'wname': 'Jittery Widget', 'quantity': '895', 'partno': 'ZZ-274', 'price': '$12.39'}, {'wname': 'Silver Widget', 'quantity': '309', 'partno': 'QO-794', 'price': '$14.31'}, {'wname': 'Divided Widget', 'quantity': '981', 'partno': 'LH-74/O', 'price': '$6.79'}, {'wname': 'Manicurist Widget', 'quantity': '441', 'partno': 'VK-486', 'price': '$8.97'}, {'wname': 'Infinite Widget', 'quantity': '320', 'partno': 'R4K-990', 'price': '$11.73'}, {'wname': 'Yellow-Tipped Widget', 'quantity': '948', 'partno': 'MZ-556/B', 'price': '$2.35'}, {'wname': 'Unshakable Widget', 'quantity': '59', 'partno': 'QV-730', 'price': '$3.76'}, {'wname': 'Self-Knowledge Widget', 'quantity': '790', 'partno': 'T1-9731', 'price': '$7.11'}, {'wname': 'Widget For Cinema', 'quantity': '919', 'partno': '5B-941/F', 'price': '$13.26'}]\n"
     ]
    },
    {
     "data": {
      "text/plain": [
       "'LH-74/O'"
      ]
     },
     "execution_count": 66,
     "metadata": {},
     "output_type": "execute_result"
    }
   ],
   "source": [
    "widgets = []\n",
    "\n",
    "# your code here\n",
    "tr_tags=document.findAll('tr', {'class': 'winfo'})\n",
    "for tag in tr_tags:\n",
    "    #print(tag.find('td', {'class': 'partno'}).string)\n",
    "    widgets.append({'partno': tag.find('td', {'class': 'partno'}).string, \n",
    "                    'wname': tag.find('td', {'class': 'wname'}).string, \n",
    "                    'price': tag.find('td', {'class': 'price'}).string, \n",
    "                    'quantity': tag.find('td', {'class': 'quantity'}).string})\n",
    "# end your code\n",
    "\n",
    "print(widgets)\n",
    "widgets[5]['partno']"
   ]
  },
  {
   "cell_type": "markdown",
   "metadata": {},
   "source": [
    "In the cell below, duplicate your code from the previous question. Modify the code to ensure that the values for `price` and `quantity` in each dictionary are floating-point numbers and integers, respectively. I.e., after executing the cell, your code should display something like this:\n",
    "\n",
    "    [{'partno': 'C1-9476',\n",
    "      'price': 2.7,\n",
    "      'quantity': 512,\n",
    "      'widgetname': 'Skinner Widget'},\n",
    "     {'partno': 'JDJ-32/V',\n",
    "      'price': 9.36,\n",
    "      'quantity': 967,\n",
    "      'widgetname': 'Widget For Furtiveness'},\n",
    "     ... some items omitted ...\n",
    "     {'partno': '5B-941/F',\n",
    "      'price': 13.26,\n",
    "      'quantity': 919,\n",
    "      'widgetname': 'Widget For Cinema'}]\n",
    "\n",
    "(Hint: Use the `float()` and `int()` functions. You may need to use string slices to convert the `price` field to a floating-point number.)"
   ]
  },
  {
   "cell_type": "code",
   "execution_count": 79,
   "metadata": {
    "collapsed": false
   },
   "outputs": [
    {
     "data": {
      "text/plain": [
       "[{'partno': 'C1-9476',\n",
       "  'price': 2.7,\n",
       "  'quantity': 512,\n",
       "  'wname': 'Skinner Widget'},\n",
       " {'partno': 'JDJ-32/V',\n",
       "  'price': 9.36,\n",
       "  'quantity': 967,\n",
       "  'wname': 'Widget For Furtiveness'},\n",
       " {'partno': 'YP4-325/J',\n",
       "  'price': 5.17,\n",
       "  'quantity': 787,\n",
       "  'wname': 'Widget For Strawman'},\n",
       " {'partno': 'ZZ-274',\n",
       "  'price': 12.39,\n",
       "  'quantity': 895,\n",
       "  'wname': 'Jittery Widget'},\n",
       " {'partno': 'QO-794',\n",
       "  'price': 14.31,\n",
       "  'quantity': 309,\n",
       "  'wname': 'Silver Widget'},\n",
       " {'partno': 'LH-74/O',\n",
       "  'price': 6.79,\n",
       "  'quantity': 981,\n",
       "  'wname': 'Divided Widget'},\n",
       " {'partno': 'VK-486',\n",
       "  'price': 8.97,\n",
       "  'quantity': 441,\n",
       "  'wname': 'Manicurist Widget'},\n",
       " {'partno': 'R4K-990',\n",
       "  'price': 11.73,\n",
       "  'quantity': 320,\n",
       "  'wname': 'Infinite Widget'},\n",
       " {'partno': 'MZ-556/B',\n",
       "  'price': 2.35,\n",
       "  'quantity': 948,\n",
       "  'wname': 'Yellow-Tipped Widget'},\n",
       " {'partno': 'QV-730',\n",
       "  'price': 3.76,\n",
       "  'quantity': 59,\n",
       "  'wname': 'Unshakable Widget'},\n",
       " {'partno': 'T1-9731',\n",
       "  'price': 7.11,\n",
       "  'quantity': 790,\n",
       "  'wname': 'Self-Knowledge Widget'},\n",
       " {'partno': '5B-941/F',\n",
       "  'price': 13.26,\n",
       "  'quantity': 919,\n",
       "  'wname': 'Widget For Cinema'}]"
      ]
     },
     "execution_count": 79,
     "metadata": {},
     "output_type": "execute_result"
    }
   ],
   "source": [
    "widgets = []\n",
    "\n",
    "# your code here\n",
    "tr_tags=document.findAll('tr', {'class': 'winfo'})\n",
    "for tag in tr_tags:\n",
    "    #print(tag.find('td', {'class': 'partno'}).string)\n",
    "    widgets.append({'partno': tag.find('td', {'class': 'partno'}).string, \n",
    "                    'wname': tag.find('td', {'class': 'wname'}).string, \n",
    "                    'price': float(tag.find('td', {'class': 'price'}).string.replace('$', '')), \n",
    "                    'quantity': int(tag.find('td', {'class': 'quantity'}).string)})\n",
    "# end your code\n",
    "\n",
    "widgets"
   ]
  },
  {
   "cell_type": "markdown",
   "metadata": {},
   "source": [
    "Great! I hope you're having fun. In the cell below, write an expression or series of statements that uses the `widgets` list created in the cell above to calculate the total number of widgets that the factory has in its warehouse.\n",
    "\n",
    "Expected output: `7928`"
   ]
  },
  {
   "cell_type": "code",
   "execution_count": 80,
   "metadata": {
    "collapsed": false
   },
   "outputs": [
    {
     "name": "stdout",
     "output_type": "stream",
     "text": [
      "And the total is 7928\n"
     ]
    }
   ],
   "source": [
    "total=sum([widget['quantity'] for widget in widgets])\n",
    "print('And the total is', total)"
   ]
  },
  {
   "cell_type": "markdown",
   "metadata": {},
   "source": [
    "In the cell below, write some Python code that prints the names of widgets whose price is above $9.30.\n",
    "\n",
    "Expected output:\n",
    "\n",
    "```\n",
    "Widget For Furtiveness\n",
    "Jittery Widget\n",
    "Silver Widget\n",
    "Infinite Widget\n",
    "Widget For Cinema\n",
    "```"
   ]
  },
  {
   "cell_type": "code",
   "execution_count": 81,
   "metadata": {
    "collapsed": false
   },
   "outputs": [
    {
     "name": "stdout",
     "output_type": "stream",
     "text": [
      "Widget For Furtiveness\n",
      "Jittery Widget\n",
      "Silver Widget\n",
      "Infinite Widget\n",
      "Widget For Cinema\n"
     ]
    }
   ],
   "source": [
    "expensive_widgets=[widget['wname'] for widget in widgets if widget['price']>9.3]\n",
    "print(*expensive_widgets, sep='\\n')"
   ]
  },
  {
   "cell_type": "markdown",
   "metadata": {},
   "source": [
    "## Problem set #3: Sibling rivalries\n",
    "\n",
    "In the following problem set, you will yet again be working with the data in `widgets2016.html`. In order to accomplish the tasks in this problem set, you'll need to learn about Beautiful Soup's `.find_next_sibling()` method. Here's some information about that method, cribbed from the notes:\n",
    "\n",
    "Often, the tags we're looking for don't have a distinguishing characteristic, like a class attribute, that allows us to find them using `.find()` and `.find_all()`, and the tags also aren't in a parent-child relationship. This can be tricky! For example, take the following HTML snippet, (which I've assigned to a string called `example_html`):"
   ]
  },
  {
   "cell_type": "code",
   "execution_count": 82,
   "metadata": {
    "collapsed": false
   },
   "outputs": [],
   "source": [
    "example_html = \"\"\"\n",
    "<h2>Camembert</h2>\n",
    "<p>A soft cheese made in the Camembert region of France.</p>\n",
    "\n",
    "<h2>Cheddar</h2>\n",
    "<p>A yellow cheese made in the Cheddar region of... France, probably, idk whatevs.</p>\n",
    "\"\"\""
   ]
  },
  {
   "cell_type": "markdown",
   "metadata": {},
   "source": [
    "If our task was to create a dictionary that maps the name of the cheese to the description that follows in the `<p>` tag directly afterward, we'd be out of luck. Fortunately, Beautiful Soup has a `.find_next_sibling()` method, which allows us to search for the next tag that is a sibling of the tag you're calling it on (i.e., the two tags share a parent), that also matches particular criteria. So, for example, to accomplish the task outlined above:"
   ]
  },
  {
   "cell_type": "code",
   "execution_count": 83,
   "metadata": {
    "collapsed": false
   },
   "outputs": [
    {
     "data": {
      "text/plain": [
       "{'Camembert': 'A soft cheese made in the Camembert region of France.',\n",
       " 'Cheddar': 'A yellow cheese made in the Cheddar region of... France, probably, idk whatevs.'}"
      ]
     },
     "execution_count": 83,
     "metadata": {},
     "output_type": "execute_result"
    }
   ],
   "source": [
    "example_doc = BeautifulSoup(example_html, \"html.parser\")\n",
    "cheese_dict = {}\n",
    "for h2_tag in example_doc.find_all('h2'):\n",
    "    cheese_name = h2_tag.string\n",
    "    cheese_desc_tag = h2_tag.find_next_sibling('p')\n",
    "    cheese_dict[cheese_name] = cheese_desc_tag.string\n",
    "\n",
    "cheese_dict"
   ]
  },
  {
   "cell_type": "markdown",
   "metadata": {},
   "source": [
    "With that knowledge in mind, let's go back to our widgets. In the cell below, write code that uses Beautiful Soup, and in particular the `.find_next_sibling()` method, to print the part numbers of the widgets that are in the table *just beneath* the header \"Hallowed Widgets.\"\n",
    "\n",
    "Expected output:\n",
    "\n",
    "```\n",
    "MZ-556/B\n",
    "QV-730\n",
    "T1-9731\n",
    "5B-941/F\n",
    "```"
   ]
  },
  {
   "cell_type": "code",
   "execution_count": 120,
   "metadata": {
    "collapsed": false
   },
   "outputs": [
    {
     "name": "stdout",
     "output_type": "stream",
     "text": [
      "MZ-556/B\n",
      "QV-730\n",
      "T1-9731\n",
      "5B-941/F\n"
     ]
    }
   ],
   "source": [
    "h3_tags=document.findAll('h3')\n",
    "for tag in h3_tags:\n",
    "    if tag.string=='Hallowed widgets':\n",
    "        hallowed_table=tag.find_next_sibling()\n",
    "        hallowed_parts=[part.string for part in hallowed_table.findAll('td', {'class': 'partno'})]\n",
    "print(*hallowed_parts, sep='\\n')"
   ]
  },
  {
   "cell_type": "markdown",
   "metadata": {},
   "source": [
    "Okay, now, the final task. If you can accomplish this, you are truly an expert web scraper. I'll have little web scraper certificates made up and I'll give you one, if you manage to do this thing. And I know you can do it!\n",
    "\n",
    "In the cell below, I've created a variable `category_counts` and assigned to it an empty dictionary. Write code to populate this dictionary so that its keys are \"categories\" of widgets (e.g., the contents of the `<h3>` tags on the page: \"Forensic Widgets\", \"Mood widgets\", \"Hallowed Widgets\") and the value for each key is the number of widgets that occur in that category. I.e., after your code has been executed, the dictionary `category_counts` should look like this:\n",
    "\n",
    "```\n",
    "{'Forensic Widgets': 3,\n",
    " 'Hallowed widgets': 4,\n",
    " 'Mood widgets': 2,\n",
    " 'Wondrous widgets': 3}\n",
    "```"
   ]
  },
  {
   "cell_type": "code",
   "execution_count": 137,
   "metadata": {
    "collapsed": false
   },
   "outputs": [
    {
     "name": "stdout",
     "output_type": "stream",
     "text": [
      "{'Hallowed widgets': 4, 'Forensic Widgets': 3, 'Mood widgets': 2, 'Wondrous widgets': 3}\n"
     ]
    }
   ],
   "source": [
    "category_counts = {}\n",
    "# your code here\n",
    "h3_tags=document.findAll('h3')\n",
    "for tag in h3_tags:\n",
    "    table=tag.find_next_sibling()\n",
    "    category_counts.update({tag.string: len([part.string for part in table.findAll('tr', {'class': 'winfo'})])})\n",
    "# end your code\n",
    "print(category_counts)"
   ]
  },
  {
   "cell_type": "markdown",
   "metadata": {},
   "source": [
    "Congratulations! You're done."
   ]
  }
 ],
 "metadata": {
  "kernelspec": {
   "display_name": "IPython (Python 3)",
   "language": "python",
   "name": "python3"
  },
  "language_info": {
   "codemirror_mode": {
    "name": "ipython",
    "version": 3
   },
   "file_extension": ".py",
   "mimetype": "text/x-python",
   "name": "python",
   "nbconvert_exporter": "python",
   "pygments_lexer": "ipython3",
   "version": "3.5.1+"
  }
 },
 "nbformat": 4,
 "nbformat_minor": 0
}
